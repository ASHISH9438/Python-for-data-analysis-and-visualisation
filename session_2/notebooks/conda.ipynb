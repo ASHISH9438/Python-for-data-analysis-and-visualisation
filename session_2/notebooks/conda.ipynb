{
 "cells": [
  {
   "cell_type": "code",
   "execution_count": null,
   "metadata": {
    "collapsed": false
   },
   "outputs": [],
   "source": [
    "%load_ext load_style\n",
    "%load_style talk.css"
   ]
  },
  {
   "cell_type": "code",
   "execution_count": null,
   "metadata": {
    "collapsed": true
   },
   "outputs": [],
   "source": [
    "from IPython.display import HTML"
   ]
  },
  {
   "cell_type": "markdown",
   "metadata": {},
   "source": [
    "# conda and anaconda"
   ]
  },
  {
   "cell_type": "markdown",
   "metadata": {},
   "source": [
    "## <hr size=5> anaconda "
   ]
  },
  {
   "cell_type": "markdown",
   "metadata": {},
   "source": [
    "[anaconda](https://store.continuum.io/cshop/anaconda/) is a Scientific Python distribution, developed by [](), \n",
    "from their web-page: \n",
    "    \n",
    "    Anaconda is a completely free enterprise-ready Python distribution for large-scale data processing, predictive analytics, and scientific computing\n",
    "    \n",
    "some advantages: \n",
    "\n",
    "+ free \n",
    "+ cross-platform \n",
    "+ 195+ of the [most popular Python packages](http://docs.continuum.io/anaconda/pkg-docs.html) for science, math, engineering, data analysis, ... notably:\n",
    "    <br><br>\n",
    "    + <a href=\"http://www.numpy.org/\">NumPy</a>\n",
    "    + <a href=\"http://www.scipy.org/\">SciPy</a>\n",
    "    + <a href=\"http://pandas.pydata.org/\">Pandas</a>\n",
    "    + <a href=\"http://ipython.org/\">IPython</a>\n",
    "    + <a href=\"http://matplotlib.org/\">Matplotlib</a>\n",
    "    + <a href=\"http://numba.pydata.org/\">Numba</a>\n",
    "    + <a href=\"http://blaze.pydata.org/\">Blaze</a>\n",
    "    + <a href=\"http://bokeh.pydata.org/\">Bokeh</a>\n",
    "    <br><br>\n",
    "   \n",
    "+ easily install, update, revert Python packages (with dependencies ..)"
   ]
  },
  {
   "cell_type": "code",
   "execution_count": null,
   "metadata": {
    "collapsed": false
   },
   "outputs": [],
   "source": [
    "HTML('<iframe src = https://store.continuum.io/cshop/anaconda/ width=900 height=350></iframe>')"
   ]
  },
  {
   "cell_type": "markdown",
   "metadata": {},
   "source": [
    "## <hr size=5> conda"
   ]
  },
  {
   "cell_type": "markdown",
   "metadata": {},
   "source": [
    "[conda](http://conda.pydata.org/docs/) is a package and **environment management system** akin to virtualenv"
   ]
  },
  {
   "cell_type": "markdown",
   "metadata": {},
   "source": [
    "example, I want to test the [iris](http://scitools.org.uk/iris/index.html) and [cartopy](http://scitools.org.uk/cartopy/index.html) packages.\n",
    "\n",
    "These are developed by the [UK Met. Office](http://scitools.org.uk/).\n",
    "\n",
    "+ [iris](http://scitools.org.uk/iris/index.html) is a Python package for analysing and visualising meteorological and oceanographic data sets\n",
    "+ [cartopy](http://scitools.org.uk/cartopy/index.html) is a Python package for advanced map generation with a simple matplotlib interface.\n",
    "\n",
    "problem is that they require older versions of numpy and other libraries, and I don't want to mess up my main environment"
   ]
  },
  {
   "cell_type": "markdown",
   "metadata": {},
   "source": [
    "first create a conda environment named *iris*, with the minimum: python and ipython [+ libraries for the notebook]\n",
    "\n",
    "    ᐅ conda create -n iris python ipython ipython-notebook\n",
    "\n",
    "then: \n",
    "\n",
    "    ᐅ source activate iris\n",
    "\n",
    "and to install (in the `iris` environment) using the binstar service (see below first)\n",
    "\n",
    "    ᐅ conda install -c https://conda.binstar.org/scitools cdat-lite\n",
    "    ᐅ conda install -c https://conda.binstar.org/scitools iris\n",
    "    ᐅ conda install -c https://conda.binstar.org/scitools cartopy"
   ]
  },
  {
   "cell_type": "markdown",
   "metadata": {},
   "source": [
    "A (quick and dirty) exploration of iris and cartopy can be found in [this notebook](./iris_cartopy.ipynb)\n",
    "\n",
    "<font color='red'>IMPORTANT</font>: **you need to launch a new instance of the IPython notebook from the `iris` environment**: \n",
    "\n",
    "    ~/Documents/talks_seminars/Python_NIWA_April2015/session_2/notebookss  ᐅ source activate iris\n",
    "\n",
    "    (iris)~/Documents/talks_seminars/Python_NIWA_April2015/session_2/notebooks  ᐅ ipython notebook "
   ]
  },
  {
   "cell_type": "markdown",
   "metadata": {},
   "source": [
    "some useful conda commands: \n",
    "\n",
    "+ list the existing environments\n",
    "    \n",
    "```\n",
    "ᐅ conda env list\n",
    "``` \n",
    "\n",
    "    or \n",
    "\n",
    "```\n",
    "ᐅ conda info -e\n",
    "``` \n",
    "\n",
    "+ remove an environment\n",
    "\n",
    "```\n",
    "ᐅ conda env remove -n envname\n",
    "```"
   ]
  },
  {
   "cell_type": "markdown",
   "metadata": {},
   "source": [
    "## binstar"
   ]
  },
  {
   "cell_type": "markdown",
   "metadata": {},
   "source": [
    "[binstar](https://binstar.org)  is a free service for hosting public packages for pip and conda"
   ]
  },
  {
   "cell_type": "markdown",
   "metadata": {},
   "source": []
  },
  {
   "cell_type": "code",
   "execution_count": null,
   "metadata": {
    "collapsed": false
   },
   "outputs": [],
   "source": [
    "HTML('<iframe src = https://binstar.org/dashboard width=1000 height=600></iframe>')"
   ]
  }
 ],
 "metadata": {
  "kernelspec": {
   "display_name": "Python 2",
   "language": "python",
   "name": "python2"
  },
  "language_info": {
   "codemirror_mode": {
    "name": "ipython",
    "version": 2
   },
   "file_extension": ".py",
   "mimetype": "text/x-python",
   "name": "python",
   "nbconvert_exporter": "python",
   "pygments_lexer": "ipython2",
   "version": "2.7.9"
  }
 },
 "nbformat": 4,
 "nbformat_minor": 0
}
